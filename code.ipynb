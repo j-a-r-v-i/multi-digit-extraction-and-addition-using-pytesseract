{
 "cells": [
  {
   "cell_type": "code",
   "execution_count": 123,
   "metadata": {},
   "outputs": [],
   "source": [
    "import cv2 \n",
    "import pytesseract as pt\n",
    "import numpy as np\n",
    "from PIL import Image\n",
    "from pytesseract import Output\n",
    "import re\n"
   ]
  },
  {
   "cell_type": "code",
   "execution_count": 124,
   "metadata": {},
   "outputs": [],
   "source": [
    "\n",
    "image= cv2.imread('download.jpg')\n",
    "\n"
   ]
  },
  {
   "cell_type": "code",
   "execution_count": 125,
   "metadata": {},
   "outputs": [],
   "source": [
    "#defining all preprocessing and we will use them according to our image\n",
    "# get grayscale image\n",
    "def get_grayscale(image):\n",
    "    return cv2.cvtColor(image, cv2.COLOR_BGR2GRAY)\n",
    "\n",
    "# noise removal\n",
    "def remove_noise(image):\n",
    "    return cv2.medianBlur(image,5)\n",
    " \n",
    "#thresholding\n",
    "def thresholding(image):\n",
    "    return cv2.threshold(image, 0, 255, cv2.THRESH_BINARY + cv2.THRESH_OTSU)[1]\n",
    "\n",
    "#dilation\n",
    "def dilate(image):\n",
    "    kernel = np.ones((5,5),np.uint8)\n",
    "    return cv2.dilate(image, kernel, iterations = 1)\n",
    "    \n",
    "#erosion\n",
    "def erode(image):\n",
    "    kernel = np.ones((5,5),np.uint8)\n",
    "    return cv2.erode(image, kernel, iterations = 1)\n",
    "\n",
    "#opening - erosion followed by dilation\n",
    "def opening(image):\n",
    "    kernel = np.ones((5,5),np.uint8)\n",
    "    return cv2.morphologyEx(image, cv2.MORPH_OPEN, kernel)\n",
    "\n",
    "#canny edge detection\n",
    "def canny(image):\n",
    "    return cv2.Canny(image, 100, 200)\n",
    "\n",
    "\n",
    "\n",
    "#template matching\n",
    "def match_template(image, template):\n",
    "    return cv2.matchTemplate(image, template, cv2.TM_CCOEFF_NORMED) "
   ]
  },
  {
   "cell_type": "code",
   "execution_count": 126,
   "metadata": {},
   "outputs": [],
   "source": [
    "#using preprocessing which is needed for image\n",
    "gray = get_grayscale(image)\n",
    "thresh = thresholding(gray)\n",
    "Image.fromarray(thresh).show()\n",
    "canny = canny(gray)\n"
   ]
  },
  {
   "cell_type": "code",
   "execution_count": 127,
   "metadata": {},
   "outputs": [],
   "source": [
    "\n",
    "pt.pytesseract.tesseract_cmd=r\"D:\\tesseract\\Tesseract.exe\"\n",
    "custom_config = r'--oem 3 --psm 6 outputbase digits'\n",
    "#we will bound box around all the values which we want to add\n",
    "d = pt.image_to_data(gray, output_type=Output.DICT)\n",
    "keys=list(d.keys())\n",
    "\n",
    "data_pattern='^[0-9]+$'\n",
    "\n",
    "n_boxes = len(d['text'])\n",
    "for i in range(n_boxes):\n",
    "    if int(d['conf'][i]) > 60:\n",
    "        if(re.match(data_pattern,d['text'][i])):\n",
    "            (x, y, w, h) = (d['left'][i], d['top'][i], d['width'][i], d['height'][i])\n",
    "            img = cv2.rectangle(thresh, (x, y), (x + w, y + h), (0, 255, 0), 2)\n",
    "\n",
    "Image.fromarray(img).show()\n",
    "\n"
   ]
  },
  {
   "cell_type": "code",
   "execution_count": 128,
   "metadata": {},
   "outputs": [
    {
     "name": "stdout",
     "output_type": "stream",
     "text": [
      "['123', '456', '789']\n",
      "The numbers are\n",
      "123\n",
      "456\n",
      "789\n",
      "total:  1368\n"
     ]
    }
   ],
   "source": [
    "#Adding all the values by first storing them on list and then adding them\n",
    "out=list(pt.image_to_string(gray, config=custom_config).split(\"\\n\"))\n",
    "out1=[]\n",
    "for i in out:\n",
    "    i=''.join(j for j in i if j in [\"1\",\"2\",\"3\",\"4\",\"5\",\"6\",\"7\",\"8\",\"9\",\"0\"])\n",
    "    out1.append(i)\n",
    "    \n",
    "while(\"\" in out1) : \n",
    "    out1.remove(\"\") \n",
    "print(out1)\n",
    "total=0\n",
    "print(\"The numbers are\")\n",
    "for i in out1:\n",
    "    print(i)\n",
    "    total+=int(i)\n",
    "print(\"total: \",total)\n",
    "\n"
   ]
  },
  {
   "cell_type": "code",
   "execution_count": null,
   "metadata": {},
   "outputs": [],
   "source": []
  }
 ],
 "metadata": {
  "kernelspec": {
   "display_name": "Python 3",
   "language": "python",
   "name": "python3"
  },
  "language_info": {
   "codemirror_mode": {
    "name": "ipython",
    "version": 3
   },
   "file_extension": ".py",
   "mimetype": "text/x-python",
   "name": "python",
   "nbconvert_exporter": "python",
   "pygments_lexer": "ipython3",
   "version": "3.6.5"
  }
 },
 "nbformat": 4,
 "nbformat_minor": 2
}
